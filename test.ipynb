{
 "cells": [
  {
   "cell_type": "markdown",
   "metadata": {},
   "source": [
    "jupyter kernelspec list"
   ]
  },
  {
   "cell_type": "code",
   "execution_count": null,
   "metadata": {},
   "outputs": [],
   "source": []
  },
  {
   "cell_type": "code",
   "execution_count": 4,
   "metadata": {},
   "outputs": [],
   "source": [
    "import pandas as pd\n",
    "import numpy as np\n",
    "weights = {'D2_Macula': 1, 'D50_Lens': 1}\n"
   ]
  },
  {
   "cell_type": "code",
   "execution_count": 6,
   "metadata": {},
   "outputs": [
    {
     "data": {
      "text/html": [
       "<div>\n",
       "<style scoped>\n",
       "    .dataframe tbody tr th:only-of-type {\n",
       "        vertical-align: middle;\n",
       "    }\n",
       "\n",
       "    .dataframe tbody tr th {\n",
       "        vertical-align: top;\n",
       "    }\n",
       "\n",
       "    .dataframe thead tr th {\n",
       "        text-align: left;\n",
       "    }\n",
       "</style>\n",
       "<table border=\"1\" class=\"dataframe\">\n",
       "  <thead>\n",
       "    <tr>\n",
       "      <th></th>\n",
       "      <th>Unnamed: 0_level_0</th>\n",
       "      <th colspan=\"2\" halign=\"left\">gaze_angles</th>\n",
       "      <th colspan=\"7\" halign=\"left\">dvh_points</th>\n",
       "      <th>total_cost</th>\n",
       "      <th>Unnamed: 0_level_0</th>\n",
       "    </tr>\n",
       "    <tr>\n",
       "      <th></th>\n",
       "      <th>Unnamed: 0_level_1</th>\n",
       "      <th>polar</th>\n",
       "      <th>azimuthal</th>\n",
       "      <th>D2_Macula</th>\n",
       "      <th>D20_OpticalDisc</th>\n",
       "      <th>D20_Cornea</th>\n",
       "      <th>V55_Retina</th>\n",
       "      <th>V27_CiliaryBody</th>\n",
       "      <th>D5_Lens</th>\n",
       "      <th>dose_volume_penalty</th>\n",
       "      <th>cost</th>\n",
       "      <th>Unnamed: 0_level_1.1</th>\n",
       "    </tr>\n",
       "  </thead>\n",
       "  <tbody>\n",
       "    <tr>\n",
       "      <th>0</th>\n",
       "      <td>0</td>\n",
       "      <td>0.0</td>\n",
       "      <td>0.0</td>\n",
       "      <td>5760.626465</td>\n",
       "      <td>3957.569336</td>\n",
       "      <td>3565.484375</td>\n",
       "      <td>0.080679</td>\n",
       "      <td>0.286520</td>\n",
       "      <td>3980.339844</td>\n",
       "      <td>98.106642</td>\n",
       "      <td>36798.885462</td>\n",
       "      <td>0.0</td>\n",
       "    </tr>\n",
       "    <tr>\n",
       "      <th>1</th>\n",
       "      <td>1</td>\n",
       "      <td>25.0</td>\n",
       "      <td>0.0</td>\n",
       "      <td>5587.671875</td>\n",
       "      <td>4933.803711</td>\n",
       "      <td>35.668846</td>\n",
       "      <td>0.086630</td>\n",
       "      <td>0.249888</td>\n",
       "      <td>3811.048096</td>\n",
       "      <td>94.891984</td>\n",
       "      <td>35506.372203</td>\n",
       "      <td>0.0</td>\n",
       "    </tr>\n",
       "    <tr>\n",
       "      <th>2</th>\n",
       "      <td>2</td>\n",
       "      <td>25.0</td>\n",
       "      <td>51.4</td>\n",
       "      <td>5939.323242</td>\n",
       "      <td>5869.455566</td>\n",
       "      <td>0.000000</td>\n",
       "      <td>0.134706</td>\n",
       "      <td>0.154100</td>\n",
       "      <td>343.298004</td>\n",
       "      <td>117.025311</td>\n",
       "      <td>35886.948548</td>\n",
       "      <td>0.0</td>\n",
       "    </tr>\n",
       "    <tr>\n",
       "      <th>3</th>\n",
       "      <td>3</td>\n",
       "      <td>25.0</td>\n",
       "      <td>102.9</td>\n",
       "      <td>5978.158203</td>\n",
       "      <td>5532.302734</td>\n",
       "      <td>0.000000</td>\n",
       "      <td>0.139024</td>\n",
       "      <td>0.111709</td>\n",
       "      <td>27.726879</td>\n",
       "      <td>111.387675</td>\n",
       "      <td>34670.748100</td>\n",
       "      <td>0.0</td>\n",
       "    </tr>\n",
       "    <tr>\n",
       "      <th>4</th>\n",
       "      <td>4</td>\n",
       "      <td>25.0</td>\n",
       "      <td>154.3</td>\n",
       "      <td>5975.160156</td>\n",
       "      <td>3931.896973</td>\n",
       "      <td>0.000000</td>\n",
       "      <td>0.131512</td>\n",
       "      <td>0.166363</td>\n",
       "      <td>733.113953</td>\n",
       "      <td>93.506555</td>\n",
       "      <td>30548.089770</td>\n",
       "      <td>0.0</td>\n",
       "    </tr>\n",
       "  </tbody>\n",
       "</table>\n",
       "</div>"
      ],
      "text/plain": [
       "  Unnamed: 0_level_0 gaze_angles             dvh_points                  \\\n",
       "  Unnamed: 0_level_1       polar azimuthal    D2_Macula D20_OpticalDisc   \n",
       "0                  0         0.0       0.0  5760.626465     3957.569336   \n",
       "1                  1        25.0       0.0  5587.671875     4933.803711   \n",
       "2                  2        25.0      51.4  5939.323242     5869.455566   \n",
       "3                  3        25.0     102.9  5978.158203     5532.302734   \n",
       "4                  4        25.0     154.3  5975.160156     3931.896973   \n",
       "\n",
       "                                                                            \\\n",
       "    D20_Cornea V55_Retina V27_CiliaryBody      D5_Lens dose_volume_penalty   \n",
       "0  3565.484375   0.080679        0.286520  3980.339844           98.106642   \n",
       "1    35.668846   0.086630        0.249888  3811.048096           94.891984   \n",
       "2     0.000000   0.134706        0.154100   343.298004          117.025311   \n",
       "3     0.000000   0.139024        0.111709    27.726879          111.387675   \n",
       "4     0.000000   0.131512        0.166363   733.113953           93.506555   \n",
       "\n",
       "     total_cost   Unnamed: 0_level_0  \n",
       "           cost Unnamed: 0_level_1.1  \n",
       "0  36798.885462                  0.0  \n",
       "1  35506.372203                  0.0  \n",
       "2  35886.948548                  0.0  \n",
       "3  34670.748100                  0.0  \n",
       "4  30548.089770                  0.0  "
      ]
     },
     "execution_count": 6,
     "metadata": {},
     "output_type": "execute_result"
    }
   ],
   "source": [
    "df = pd.read_csv('results/eval_history.csv', header = [0,1])\n",
    "df.head()"
   ]
  },
  {
   "cell_type": "code",
   "execution_count": 39,
   "metadata": {},
   "outputs": [
    {
     "data": {
      "text/html": [
       "<div>\n",
       "<style scoped>\n",
       "    .dataframe tbody tr th:only-of-type {\n",
       "        vertical-align: middle;\n",
       "    }\n",
       "\n",
       "    .dataframe tbody tr th {\n",
       "        vertical-align: top;\n",
       "    }\n",
       "\n",
       "    .dataframe thead tr th {\n",
       "        text-align: left;\n",
       "    }\n",
       "</style>\n",
       "<table border=\"1\" class=\"dataframe\">\n",
       "  <thead>\n",
       "    <tr>\n",
       "      <th></th>\n",
       "      <th>Unnamed: 0_level_0</th>\n",
       "      <th colspan=\"2\" halign=\"left\">gaze_angles</th>\n",
       "      <th colspan=\"7\" halign=\"left\">dvh_points</th>\n",
       "      <th>total_cost</th>\n",
       "    </tr>\n",
       "    <tr>\n",
       "      <th></th>\n",
       "      <th>Unnamed: 0_level_1</th>\n",
       "      <th>polar</th>\n",
       "      <th>azimuthal</th>\n",
       "      <th>D2_Macula</th>\n",
       "      <th>D20_OpticalDisc</th>\n",
       "      <th>D20_Cornea</th>\n",
       "      <th>V55_Retina</th>\n",
       "      <th>V27_CiliaryBody</th>\n",
       "      <th>D5_Lens</th>\n",
       "      <th>dose_volume_penalty</th>\n",
       "      <th>cost</th>\n",
       "    </tr>\n",
       "  </thead>\n",
       "  <tbody>\n",
       "    <tr>\n",
       "      <th>4</th>\n",
       "      <td>0</td>\n",
       "      <td>25.0</td>\n",
       "      <td>154.3</td>\n",
       "      <td>5975.160156</td>\n",
       "      <td>3931.896973</td>\n",
       "      <td>0.0</td>\n",
       "      <td>0.131512</td>\n",
       "      <td>0.166363</td>\n",
       "      <td>733.113953</td>\n",
       "      <td>93.506555</td>\n",
       "      <td>30548.08977</td>\n",
       "    </tr>\n",
       "  </tbody>\n",
       "</table>\n",
       "</div>"
      ],
      "text/plain": [
       "  Unnamed: 0_level_0 gaze_angles             dvh_points                  \\\n",
       "  Unnamed: 0_level_1       polar azimuthal    D2_Macula D20_OpticalDisc   \n",
       "4                  0        25.0     154.3  5975.160156     3931.896973   \n",
       "\n",
       "                                                                         \\\n",
       "  D20_Cornea V55_Retina V27_CiliaryBody     D5_Lens dose_volume_penalty   \n",
       "4        0.0   0.131512        0.166363  733.113953           93.506555   \n",
       "\n",
       "    total_cost  \n",
       "          cost  \n",
       "4  30548.08977  "
      ]
     },
     "execution_count": 39,
     "metadata": {},
     "output_type": "execute_result"
    }
   ],
   "source": [
    "def get_row_by_gaze(df, a, b):\n",
    "    h1 = ('gaze_angles', 'polar')\n",
    "    h2 = ('gaze_angles', 'azimuthal')\n",
    "    mask = (df[h1] == a) & (df[h2] == b)\n",
    "    return df[mask]\n",
    "get_row_by_gaze(df, polar, azimuthal)"
   ]
  },
  {
   "cell_type": "code",
   "execution_count": 10,
   "metadata": {},
   "outputs": [],
   "source": []
  },
  {
   "cell_type": "code",
   "execution_count": 11,
   "metadata": {},
   "outputs": [
    {
     "data": {
      "text/plain": [
       "(25.0, 308.6)"
      ]
     },
     "execution_count": 11,
     "metadata": {},
     "output_type": "execute_result"
    }
   ],
   "source": [
    "idx_min = df[('dvh_points', 'D2_Macula')].idxmin()\n",
    "polar = df.loc[idx_min, ('gaze_angles', 'polar')]\n",
    "azimuthal = df.loc[idx_min, ('gaze_angles', 'azimuthal')]\n",
    "polar, azimuthal"
   ]
  },
  {
   "cell_type": "code",
   "execution_count": 17,
   "metadata": {},
   "outputs": [
    {
     "data": {
      "text/plain": [
       "10"
      ]
     },
     "execution_count": 17,
     "metadata": {},
     "output_type": "execute_result"
    }
   ],
   "source": [
    "a = {'a': 1, 'b': 10}\n",
    "max(a.values())"
   ]
  },
  {
   "cell_type": "code",
   "execution_count": 22,
   "metadata": {},
   "outputs": [],
   "source": [
    "import matplotlib.pyplot as plt\n",
    "import numpy as np"
   ]
  },
  {
   "cell_type": "code",
   "execution_count": 24,
   "metadata": {},
   "outputs": [
    {
     "data": {
      "image/png": "[encoded data removed]",
      "text/plain": [
       "<Figure size 640x480 with 1 Axes>"
      ]
     },
     "metadata": {},
     "output_type": "display_data"
    }
   ],
   "source": [
    "plt.subplot(111, polar=True)\n",
    "plt.plot(np.pi/2, 3, 'x')\n",
    "plt.show()"
   ]
  },
  {
   "cell_type": "code",
   "execution_count": 1,
   "metadata": {},
   "outputs": [],
   "source": [
    "import numpy as np\n",
    "import h5py\n",
    "import matplotlib.pyplot as plt"
   ]
  },
  {
   "cell_type": "code",
   "execution_count": 2,
   "metadata": {},
   "outputs": [
    {
     "data": {
      "text/plain": [
       "array([ 1, 11, 13, 16])"
      ]
     },
     "execution_count": 2,
     "metadata": {},
     "output_type": "execute_result"
    }
   ],
   "source": [
    "a = np.array([1, 10, 2, 3])\n",
    "np.cumsum(a)"
   ]
  },
  {
   "cell_type": "code",
   "execution_count": 55,
   "metadata": {},
   "outputs": [
    {
     "name": "stdout",
     "output_type": "stream",
     "text": [
      "HDF5 File: results/17213.h5\n",
      "  Group: gaze_angles/\n",
      "    Group: gaze_angles/0_0/\n",
      "      Attributes:\n",
      "        - D20_Cornea: 60.983740234375\n",
      "        - D20_OpticalDisc: 0.32911693572998046\n",
      "        - D2_Macula: 4.1101596069335935\n",
      "        - D5_Lens: 60.5395068359375\n",
      "        - V27_CiliaryBody: 52.38054915659836\n",
      "        - V55_Retina: 40.62586054555284\n",
      "        - gaze_angle: [0 0]\n",
      "        - total_cost: 427.56380320335427\n",
      "        - volume_term: 199.71631680289985\n",
      "      Dataset: gaze_angles/0_0/Chamber | shape=(100,), dtype=float64\n",
      "      Dataset: gaze_angles/0_0/CiliaryBody | shape=(100,), dtype=float64\n",
      "      Dataset: gaze_angles/0_0/Clip_m1 | shape=(100,), dtype=float64\n",
      "      Dataset: gaze_angles/0_0/Clip_m2 | shape=(100,), dtype=float64\n",
      "      Dataset: gaze_angles/0_0/Clip_m3 | shape=(100,), dtype=float64\n",
      "      Dataset: gaze_angles/0_0/Clip_m4 | shape=(100,), dtype=float64\n",
      "      Dataset: gaze_angles/0_0/Clip_m5 | shape=(100,), dtype=float64\n",
      "      Dataset: gaze_angles/0_0/Cornea | shape=(100,), dtype=float64\n",
      "      Dataset: gaze_angles/0_0/Iris | shape=(100,), dtype=float64\n",
      "      Dataset: gaze_angles/0_0/Lens | shape=(100,), dtype=float64\n",
      "      Dataset: gaze_angles/0_0/Macula | shape=(100,), dtype=float64\n",
      "      Dataset: gaze_angles/0_0/OpticalDisc | shape=(100,), dtype=float64\n",
      "      Dataset: gaze_angles/0_0/OpticalNerve | shape=(100,), dtype=float64\n",
      "      Dataset: gaze_angles/0_0/Retina | shape=(100,), dtype=float64\n",
      "      Dataset: gaze_angles/0_0/Sclera | shape=(100,), dtype=float64\n",
      "      Dataset: gaze_angles/0_0/Tumor | shape=(100,), dtype=float64\n",
      "      Dataset: gaze_angles/0_0/VitreousBody | shape=(100,), dtype=float64\n",
      "      Dataset: gaze_angles/0_0/clip1_EP | shape=(100,), dtype=float64\n",
      "      Dataset: gaze_angles/0_0/clip2_EP | shape=(100,), dtype=float64\n",
      "      Dataset: gaze_angles/0_0/clip3_EP | shape=(100,), dtype=float64\n",
      "      Dataset: gaze_angles/0_0/clip4_EP | shape=(100,), dtype=float64\n",
      "      Dataset: gaze_angles/0_0/clip5_EP | shape=(100,), dtype=float64\n",
      "      Dataset: gaze_angles/0_0/cornea_EP | shape=(100,), dtype=float64\n",
      "      Dataset: gaze_angles/0_0/eyeglobe_EP | shape=(100,), dtype=float64\n",
      "      Dataset: gaze_angles/0_0/lens_EP | shape=(100,), dtype=float64\n",
      "      Dataset: gaze_angles/0_0/target_EP | shape=(100,), dtype=float64\n",
      "      Dataset: gaze_angles/0_0/total_dose | shape=(1998920,), dtype=float32\n",
      "  Group: roi_masks/\n",
      "    Dataset: roi_masks/Chamber | shape=(3266,), dtype=int32\n",
      "    Dataset: roi_masks/CiliaryBody | shape=(11025,), dtype=int32\n",
      "    Dataset: roi_masks/Clip_m1 | shape=(87,), dtype=int32\n",
      "    Dataset: roi_masks/Clip_m2 | shape=(89,), dtype=int32\n",
      "    Dataset: roi_masks/Clip_m3 | shape=(97,), dtype=int32\n",
      "    Dataset: roi_masks/Clip_m4 | shape=(75,), dtype=int32\n",
      "    Dataset: roi_masks/Clip_m5 | shape=(89,), dtype=int32\n",
      "    Dataset: roi_masks/Cornea | shape=(2647,), dtype=int32\n",
      "    Dataset: roi_masks/Iris | shape=(1504,), dtype=int32\n",
      "    Dataset: roi_masks/Lens | shape=(5890,), dtype=int32\n",
      "    Dataset: roi_masks/Macula | shape=(38,), dtype=int32\n",
      "    Dataset: roi_masks/OpticalDisc | shape=(40,), dtype=int32\n",
      "    Dataset: roi_masks/OpticalNerve | shape=(494,), dtype=int32\n",
      "    Dataset: roi_masks/Retina | shape=(19299,), dtype=int32\n",
      "    Dataset: roi_masks/Sclera | shape=(44955,), dtype=int32\n",
      "    Dataset: roi_masks/Tumor | shape=(39705,), dtype=int32\n",
      "    Dataset: roi_masks/VitreousBody | shape=(121754,), dtype=int32\n",
      "    Dataset: roi_masks/clip1_EP | shape=(91,), dtype=int32\n",
      "    Dataset: roi_masks/clip2_EP | shape=(90,), dtype=int32\n",
      "    Dataset: roi_masks/clip3_EP | shape=(95,), dtype=int32\n",
      "    Dataset: roi_masks/clip4_EP | shape=(75,), dtype=int32\n",
      "    Dataset: roi_masks/clip5_EP | shape=(87,), dtype=int32\n",
      "    Dataset: roi_masks/cornea_EP | shape=(3262,), dtype=int32\n",
      "    Dataset: roi_masks/eyeglobe_EP | shape=(151458,), dtype=int32\n",
      "    Dataset: roi_masks/lens_EP | shape=(4139,), dtype=int32\n",
      "    Dataset: roi_masks/target_EP | shape=(39874,), dtype=int32\n"
     ]
    }
   ],
   "source": [
    "import h5py\n",
    "\n",
    "def print_hdf5_structure(file_path):\n",
    "    \"\"\"\n",
    "    Recursively prints the structure of an HDF5 file, including groups, datasets, and attributes.\n",
    "    \n",
    "    Parameters\n",
    "    ----------\n",
    "    file_path : str\n",
    "        Path to the HDF5 file.\n",
    "    \"\"\"\n",
    "\n",
    "    def print_attrs(name, obj, indent=0):\n",
    "        \"\"\"Helper to print attributes of a group or dataset.\"\"\"\n",
    "        prefix = \" \" * indent\n",
    "        if obj.attrs:\n",
    "            print(f\"{prefix}  Attributes:\")\n",
    "            for key, val in obj.attrs.items():\n",
    "                print(f\"{prefix}    - {key}: {val}\")\n",
    "\n",
    "    def print_group(name, obj, indent=0):\n",
    "        \"\"\"Recursive visitor function for groups and datasets.\"\"\"\n",
    "        prefix = \" \" * indent\n",
    "        if isinstance(obj, h5py.Group):\n",
    "            print(f\"{prefix}Group: {name}/\")\n",
    "        elif isinstance(obj, h5py.Dataset):\n",
    "            print(f\"{prefix}Dataset: {name} | shape={obj.shape}, dtype={obj.dtype}\")\n",
    "        print_attrs(name, obj, indent)\n",
    "\n",
    "    # Open and walk through the file\n",
    "    with h5py.File(file_path, \"r\") as f:\n",
    "        print(f\"HDF5 File: {file_path}\")\n",
    "        f.visititems(lambda name, obj: print_group(name, obj, indent=len(name.split('/')) * 2))\n",
    "\n",
    "# Example usage:\n",
    "print_hdf5_structure('results/17213.h5')\n"
   ]
  },
  {
   "cell_type": "code",
   "execution_count": null,
   "metadata": {},
   "outputs": [],
   "source": [
    "with h5py.File('results/test.h5', \"r\") as f:\n",
    "    roi = 'OpticalNerve'\n",
    "]\n",
    "    gaze_angles = f['gaze_angles']['']"
   ]
  },
  {
   "cell_type": "code",
   "execution_count": 2,
   "metadata": {},
   "outputs": [
    {
     "data": {
      "image/png": "[encoded data removed]",
      "text/plain": [
       "<Figure size 640x480 with 1 Axes>"
      ]
     },
     "metadata": {},
     "output_type": "display_data"
    }
   ],
   "source": [
    "with h5py.File('results/test.h5', \"r\") as f:\n",
    "    rois = ['Tumor', 'OpticalNerve', 'Chamber']\n",
    "    for roi in rois:\n",
    "        dvh_roi = f['gaze_angles']['(0, 0)'][roi][:]\n",
    "        #print(dvh_roi)\n",
    "        plt.plot(dvh_roi,np.linspace(0, 1, 100), label=roi);\n",
    "    plt.legend()\n",
    "    plt.show()\n"
   ]
  },
  {
   "cell_type": "code",
   "execution_count": 53,
   "metadata": {},
   "outputs": [
    {
     "name": "stdout",
     "output_type": "stream",
     "text": [
      "350.3725843601816\n"
     ]
    }
   ],
   "source": [
    "angle_key = '25_110'\n",
    "with h5py.File('results/test.h5', \"r\") as f:\n",
    "    print(f['gaze_angles'][angle_key].attrs['volume_term'])"
   ]
  },
  {
   "cell_type": "code",
   "execution_count": 28,
   "metadata": {},
   "outputs": [
    {
     "data": {
      "text/plain": [
       "(0, 0)"
      ]
     },
     "execution_count": 28,
     "metadata": {},
     "output_type": "execute_result"
    }
   ],
   "source": [
    "tuple(a)"
   ]
  },
  {
   "cell_type": "code",
   "execution_count": null,
   "metadata": {},
   "outputs": [],
   "source": []
  }
 ],
 "metadata": {
  "kernelspec": {
   "display_name": "2a540a9f19924b8191a155a71b56dca0",
   "language": "python",
   "name": "python3"
  },
  "language_info": {
   "codemirror_mode": {
    "name": "ipython",
    "version": 3
   },
   "file_extension": ".py",
   "mimetype": "text/x-python",
   "name": "python",
   "nbconvert_exporter": "python",
   "pygments_lexer": "ipython3",
   "version": "3.8.7"
  }
 },
 "nbformat": 4,
 "nbformat_minor": 2
}
